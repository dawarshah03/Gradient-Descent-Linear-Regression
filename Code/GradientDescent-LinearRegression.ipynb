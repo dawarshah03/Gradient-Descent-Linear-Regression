{
 "cells": [
  {
   "cell_type": "code",
   "execution_count": 16,
   "id": "c0effcff-56f1-4967-a304-47e8f1084d2d",
   "metadata": {},
   "outputs": [
    {
     "name": "stdout",
     "output_type": "stream",
     "text": [
      "\n",
      "Final from Gradient Descent:\n",
      "m = 1.0262454813586956, b = 1.3121913118610231, final cost = 31.625387089268038\n",
      "\n",
      "Sklearn LinearRegression:\n",
      "m = 1.017736237856933, b = 1.9152193111568891\n"
     ]
    }
   ],
   "source": [
    "import numpy as np\n",
    "import pandas as pd\n",
    "import math\n",
    "from sklearn import linear_model\n",
    "\n",
    "data = pd.read_csv(\"test_scores.csv\")\n",
    "\n",
    "x = np.array(data['math'])\n",
    "y = np.array(data['cs'])\n",
    "\n",
    "def gradient_descent(x, y):\n",
    "    m_curr = b_curr = 0\n",
    "    iterations = 100000\n",
    "    n = len(x)\n",
    "    learning_rate = 0.0001\n",
    "    prev_cost = 0\n",
    "\n",
    "    for i in range(iterations):\n",
    "        y_predicted = m_curr * x + b_curr\n",
    "        cost = (1/n) * sum((y - y_predicted) ** 2)\n",
    "        \n",
    "        if math.isclose(cost, prev_cost, rel_tol=1e-20):\n",
    "            print(f\"\\nStopped early at iteration {i}\")\n",
    "            break\n",
    "\n",
    "        prev_cost = cost\n",
    "\n",
    "        md = -(2/n) * sum(x * (y - y_predicted))\n",
    "        bd = -(2/n) * sum(y - y_predicted)\n",
    "\n",
    "        m_curr = m_curr - learning_rate * md\n",
    "        b_curr = b_curr - learning_rate * bd\n",
    "\n",
    "    print(\"\\nFinal from Gradient Descent:\")\n",
    "    print(\"m = {}, b = {}, final cost = {}\".format(m_curr, b_curr, cost))\n",
    "    return m_curr, b_curr\n",
    "\n",
    "m_curr, b_curr = gradient_descent(x, y)\n",
    "\n",
    "reg = linear_model.LinearRegression()\n",
    "x_reshaped = x.reshape(-1, 1)\n",
    "reg.fit(x_reshaped, y)\n",
    "\n",
    "print(\"\\nSklearn LinearRegression:\")\n",
    "print(\"m = {}, b = {}\".format(reg.coef_[0], reg.intercept_))"
   ]
  },
  {
   "cell_type": "code",
   "execution_count": null,
   "id": "27fddf1c-7321-4ea7-a101-17cc47eb2eeb",
   "metadata": {},
   "outputs": [],
   "source": []
  }
 ],
 "metadata": {
  "kernelspec": {
   "display_name": "Python 3 (ipykernel)",
   "language": "python",
   "name": "python3"
  },
  "language_info": {
   "codemirror_mode": {
    "name": "ipython",
    "version": 3
   },
   "file_extension": ".py",
   "mimetype": "text/x-python",
   "name": "python",
   "nbconvert_exporter": "python",
   "pygments_lexer": "ipython3",
   "version": "3.13.5"
  }
 },
 "nbformat": 4,
 "nbformat_minor": 5
}
